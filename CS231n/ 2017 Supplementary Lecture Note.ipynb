{
 "cells": [
  {
   "cell_type": "markdown",
   "metadata": {},
   "source": [
    "# 2017 Lecture Note \n",
    "## Lecture Note 11 Detection and Segmentation\n",
    "### Instance Segmentation\n",
    "- Mask R-CNN: a further research based on Faster R-CNN, with a new network on the top\n",
    "\n",
    "## Lecture Note 15 Efficient Methods and Hardware for Deep Learning or Real World Use\n",
    "\n",
    "### Part 1: Algorithms for Efficient Inference\n",
    "1. pruning, abondon some connections then retrain to recover accuracy\n",
    "2. Weight Sharing, share weight, reduce bits\n",
    "3. Quantization, \n",
    "4. Low Rank Approximation\n",
    "5. Binary / Ternary Net (2 or 3)\n",
    "6. Winograd Transformation\n",
    "\n",
    "### Part 2: Hardware for Efficient Inference\n",
    "- minimize memory access\n",
    "\n",
    "### Part 3: Efficient Training — Algorithms\n",
    "1. Parallelization\n",
    "2. Mixed Precision with FP16 and FP32\n",
    "3. Model Distillation\n",
    "4. DSD: Dense-Sparse-Dense Training\n",
    "\n",
    "### Part 4: Hardware for Efficient Training\n",
    "- all sorts of powerful hardware"
   ]
  }
 ],
 "metadata": {
  "kernelspec": {
   "display_name": "Python 3",
   "language": "python",
   "name": "python3"
  },
  "language_info": {
   "codemirror_mode": {
    "name": "ipython",
    "version": 3
   },
   "file_extension": ".py",
   "mimetype": "text/x-python",
   "name": "python",
   "nbconvert_exporter": "python",
   "pygments_lexer": "ipython3",
   "version": "3.6.0"
  }
 },
 "nbformat": 4,
 "nbformat_minor": 2
}
