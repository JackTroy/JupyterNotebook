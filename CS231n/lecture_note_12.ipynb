{
 "cells": [
  {
   "cell_type": "markdown",
   "metadata": {},
   "source": [
    "# Lecture Note 12 Software Packages \n",
    "\n",
    "## caffe\n",
    "- no need to write code\n",
    "- have things done in pro file, just assign everything, the input data, the layers, the parameters, the archtecture, \n",
    "- datastructure\n",
    "    - Blob: Stores data and derivatives\n",
    "    - Layer: Transforms bottom blobs to top blobs (the same as the layer coded in assignments)\n",
    "    - Net: Many layers; computes gradients via forward / backward\n",
    "    - Solver: Uses gradients to update weights\n",
    "\n",
    "## Torch\n",
    "- modules in lua, like packages in python\n",
    "- modules are easy to use, there are `tensors`, `nn`(layers stack), etc\n",
    "\n",
    "## Tensorflow\n",
    "- computational graph is key\n",
    "- code the symbolic computation procedure, then run the real computation\n",
    "- auto derive gradient"
   ]
  }
 ],
 "metadata": {
  "kernelspec": {
   "display_name": "Python 3",
   "language": "python",
   "name": "python3"
  },
  "language_info": {
   "codemirror_mode": {
    "name": "ipython",
    "version": 3
   },
   "file_extension": ".py",
   "mimetype": "text/x-python",
   "name": "python",
   "nbconvert_exporter": "python",
   "pygments_lexer": "ipython3",
   "version": "3.6.0"
  }
 },
 "nbformat": 4,
 "nbformat_minor": 2
}
