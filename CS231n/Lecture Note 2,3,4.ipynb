{
 "cells": [
  {
   "cell_type": "markdown",
   "metadata": {},
   "source": [
    "# Lecture 2\n",
    "\n",
    "### Setting Hyperparameters\n",
    "1. Cross-Validation: Split data into folds,try each fold as validation and average the results"
   ]
  },
  {
   "cell_type": "markdown",
   "metadata": {},
   "source": [
    "# Lecture 3\n",
    "\n",
    "## Linear classification\n",
    "\n",
    "#### Linear score function\n",
    "- give each class score from x * weights\n",
    "\n",
    "#### Loss function(svm v.s. softmax)\n",
    " - hinge is more robust or give no more loss since one score is wrong compared to cross-entropy loss(softmax), in comparision cross-entropy loss is more sensitive to wrong score\n",
    " - softmax function may lead to Numeric stability (exponential blow up),\n",
    "#### Regularization\n",
    " - L2 to minimize weights, to make the curves simple(Occam’s Razor)\n",
    "\n",
    "## Optimization\n",
    "\n",
    "#### Gradient Descent\n",
    "- mini batch (stochastic) gradient descent is faster \n",
    "- Learning rate, begin with high rate, then decrease \n"
   ]
  },
  {
   "cell_type": "markdown",
   "metadata": {},
   "source": [
    "# Lecture 4\n",
    "\n",
    "##  BP Algo\n",
    "\n",
    "### Computational Graph\n",
    "- Intuition it's impossible to compute the derivatives of weights in terms of neural netwroks cause it's too complex, you need computational graph\n",
    "- graph consists of gates, gate is a function with inputs and output\n",
    "\n",
    "### Back Propagation\n",
    "- key\n",
    "    - chain rule in derivatives\n",
    "    - the gate model, out = func(in)\n",
    "- Patterns in backward flow\n",
    "    - add:gradient distributor\n",
    "    - max:gradient router\n",
    "   \n",
    "- Gradients add at branches\n",
    "\n",
    "### Gate Implemetation\n",
    "\n",
    "```\n",
    "#single gate\n",
    "class Gate():\n",
    "    self.x\n",
    "    self.y\n",
    "    def forward(inputs):\n",
    "        return func(iuputs)\n",
    "    \n",
    "    def backward(dz):\n",
    "        return [dx, dy]\n",
    "```\n",
    "\n",
    "### Jacobian Matrix\n",
    "- input and output are always vectors\n",
    "- for every element in the output vertor , compute the corresponding derivative for every element in input, so the size would be len(output) * len(input), a giant matrix\n",
    "\n",
    "### Forward & Backforward as programming rules\n",
    "- even in shallow model!!!\n",
    "\n",
    "## Neural Networks\n",
    "\n",
    "### Activation functions\n",
    "- ReLU\n",
    "- ....\n",
    "\n",
    "### Why Layers & fully connected \n",
    "- code can be vectorized\n",
    "\n",
    "### Layers & sizes v.s. regularization\n",
    "- use regularization to avoid overfit instead of simplifying the whole architeture\n",
    "\n",
    "### Interpretation, insight\n",
    "- the hidden layers represent the raw data in a new space, which can be linearly classified"
   ]
  }
 ],
 "metadata": {
  "anaconda-cloud": {},
  "kernelspec": {
   "display_name": "Python [Root]",
   "language": "python",
   "name": "Python [Root]"
  },
  "language_info": {
   "codemirror_mode": {
    "name": "ipython",
    "version": 3
   },
   "file_extension": ".py",
   "mimetype": "text/x-python",
   "name": "python",
   "nbconvert_exporter": "python",
   "pygments_lexer": "ipython3",
   "version": "3.5.2"
  }
 },
 "nbformat": 4,
 "nbformat_minor": 0
}
