{
 "cells": [
  {
   "cell_type": "markdown",
   "metadata": {},
   "source": [
    "# Assignment 1\n",
    "\n",
    "- knn, no loops compute distances functions\n",
    "    - to fully vectorize, it's necessary to anaylse the computing process and find out how to break into several parts\n",
    "- matrix operations\n",
    "    - 常数在矩阵乘法中可以随意换换位置，kAB = ABk, k是实数，A,B是矩阵\n",
    "- backpropagation trick\n",
    "    - 在运算是矩阵相乘时，有WX = h, dL/dW = dh/dW * dL/dh，则dL/dW = X.T*dh\n",
    "    - 之所以能这样做的原因是，对于不同的Xi对Wj求出来的梯度是直接相加的\n",
    "- computational graph v.s. neural networks architeture\n",
    "    - 两者并不相同，computational graph是数学意义上的，用于正反向传播计算过程，而neural networks architeture只是一个示意结构，是深度学习意义上的"
   ]
  },
  {
   "cell_type": "code",
   "execution_count": null,
   "metadata": {
    "collapsed": true
   },
   "outputs": [],
   "source": []
  }
 ],
 "metadata": {
  "kernelspec": {
   "display_name": "Python 3",
   "language": "python",
   "name": "python3"
  },
  "language_info": {
   "codemirror_mode": {
    "name": "ipython",
    "version": 3
   },
   "file_extension": ".py",
   "mimetype": "text/x-python",
   "name": "python",
   "nbconvert_exporter": "python",
   "pygments_lexer": "ipython3",
   "version": "3.6.0"
  }
 },
 "nbformat": 4,
 "nbformat_minor": 2
}
