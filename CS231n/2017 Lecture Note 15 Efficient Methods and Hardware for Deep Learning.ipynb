{
 "cells": [
  {
   "cell_type": "markdown",
   "metadata": {},
   "source": [
    "# 2017 Lecture Note 15 Efficient Methods and Hardware for Deep Learning\n",
    "\n",
    "## Part 1: Algorithms for Efficient Inference\n",
    "1. pruning\n",
    "2. Weight Sharing\n",
    "3. Quantization\n",
    "\n",
    "\n",
    "# todo"
   ]
  }
 ],
 "metadata": {
  "kernelspec": {
   "display_name": "Python 3",
   "language": "python",
   "name": "python3"
  },
  "language_info": {
   "codemirror_mode": {
    "name": "ipython",
    "version": 3
   },
   "file_extension": ".py",
   "mimetype": "text/x-python",
   "name": "python",
   "nbconvert_exporter": "python",
   "pygments_lexer": "ipython3",
   "version": "3.6.0"
  }
 },
 "nbformat": 4,
 "nbformat_minor": 2
}
