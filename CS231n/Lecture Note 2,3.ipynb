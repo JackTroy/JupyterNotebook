{
 "cells": [
  {
   "cell_type": "markdown",
   "metadata": {},
   "source": [
    "# Lecture 2\n",
    "\n",
    "### Setting Hyperparameters\n",
    "1. Cross-Validation: Split data into folds,try each fold as validation and average the results"
   ]
  },
  {
   "cell_type": "markdown",
   "metadata": {},
   "source": [
    "# Lecture 3\n",
    "\n",
    "## Linear classification\n",
    "\n",
    "#### Linear score function\n",
    "- give each class score from x * weights\n",
    "\n",
    "#### Loss function(svm v.s. softmax)\n",
    " - hinge is more robust or give no more loss since one score is wrong compared to cross-entropy loss(softmax), in comparision cross-entropy loss is more sensitive to wrong score\n",
    " - softmax function may lead to Numeric stability (exponential blow up),\n",
    "#### Regularization\n",
    " - L2 to minimize weights, to make the curves simple(Occam’s Razor)\n",
    "\n",
    "## Optimization\n",
    "\n",
    "#### Gradient Descent\n",
    "- mini batch (stochastic) gradient descent is faster \n",
    "- Learning rate, begin with high rate, then decrease \n"
   ]
  }
 ],
 "metadata": {
  "anaconda-cloud": {},
  "kernelspec": {
   "display_name": "Python 3",
   "language": "python",
   "name": "python3"
  },
  "language_info": {
   "codemirror_mode": {
    "name": "ipython",
    "version": 3
   },
   "file_extension": ".py",
   "mimetype": "text/x-python",
   "name": "python",
   "nbconvert_exporter": "python",
   "pygments_lexer": "ipython3",
   "version": "3.6.0"
  }
 },
 "nbformat": 4,
 "nbformat_minor": 0
}
