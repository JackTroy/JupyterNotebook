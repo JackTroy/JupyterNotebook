{
 "cells": [
  {
   "cell_type": "markdown",
   "metadata": {},
   "source": [
    "# lecture_note_9 Understanding and Visualizing Convolutional Neural Networks\n",
    "\n",
    "### filters visualization \n",
    "- visualize filters (weights)\n",
    "\n",
    "### last layer\n",
    "- using Nearest Neighbors on the last layer of  many images\n",
    "- t-SNE, Dimensionality Reduction, subject the final layer of image to 2 dims\n",
    "\n",
    "### visualizing activations\n",
    "\n",
    "### Occlusion experiments\n",
    "- Mask part of the image before feeding to CNN, draw heatmap of probability at each mask location\n",
    "\n",
    "### saliency maps\n",
    "- Compute gradient of (unnormalized) class score with respect to image pixels, take absolute value and max over RGB channels\n",
    "- one way to segment\n",
    "\n",
    "### Intermediate Features via (guided) backprop\n",
    "- Compute gradient of neuron value with respect to image pixels\n",
    "- guided relu back prop, kill negative gradient, or influence\n",
    "\n",
    "### Visualizing CNN features: Gradient Ascent\n",
    "- update the image (all zeros at the begining) to maximize the neuron ouput\n",
    "\n",
    "### fooling ConvNets\n",
    "- pose optimization over input image to maximize any class score\n",
    "- above strategy is effective at changing the prediction but totally not on original data, the image changes little\n",
    "- result of linear classifier can be changed easily even if the overall data changes little\n",
    "\n",
    "### deepdream\n",
    "- Choose an image and a layer in a CNN; repeat:\n",
    "    1. Forward: compute activations at chosen layer\n",
    "    2. Set gradient of chosen layer equal to its activation\n",
    "    3. Backward: Compute gradient on image\n",
    "    4. Update image\n",
    "\n",
    "### feature inversion\n",
    "- Given a CNN feature vector for an image, find a new image that:\n",
    "    - Matches the given feature vector\n",
    "    - “looks natural” (image prior regularization)\n",
    "\n",
    "### Texture Synthesis\n",
    "- Nearest Neighbor copying\n",
    "- Gram Matrix(how to compute? in ppt P54-57)\n",
    "\n",
    "\n"
   ]
  }
 ],
 "metadata": {
  "kernelspec": {
   "display_name": "Python 3",
   "language": "python",
   "name": "python3"
  },
  "language_info": {
   "codemirror_mode": {
    "name": "ipython",
    "version": 3
   },
   "file_extension": ".py",
   "mimetype": "text/x-python",
   "name": "python",
   "nbconvert_exporter": "python",
   "pygments_lexer": "ipython3",
   "version": "3.6.0"
  }
 },
 "nbformat": 4,
 "nbformat_minor": 2
}
