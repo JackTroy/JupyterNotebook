{
 "cells": [
  {
   "cell_type": "markdown",
   "metadata": {},
   "source": [
    "# lecture_note_9 Understanding and Visualizing Convolutional Neural Networks\n",
    "\n",
    "### former visualization \n",
    "- visualize filters (weights)\n",
    "- t-SNE, subject the final layer of image to 2 dims\n",
    "- Occlusion experiments, probability way\n",
    "\n",
    "### Deconv approaches(visualizing neurons)\n",
    "- visualize gradients of neuron w.r.t the data\n",
    "- guided relu back prop, kill negative gradient, or influence\n",
    "\n",
    "### Optimization to Image\n",
    "- visualize networks\n",
    "    1. Find mages that maximize some class score \n",
    "    2. Visualize the Data gradient\n",
    "    - note:can be done at arbitrary neurons\n",
    "- construct image using code of last layer\n",
    "- deep dream\n",
    "- neural style\n",
    "\n",
    "### fooling ConvNets\n",
    "- pose optimization over input image to maximize any class score\n",
    "- above strategy is effective at changing the prediction but totally not on original data, the image changes little\n",
    "- result of linear classifier can be changed easily even if the overall data changes little"
   ]
  }
 ],
 "metadata": {
  "kernelspec": {
   "display_name": "Python 3",
   "language": "python",
   "name": "python3"
  },
  "language_info": {
   "codemirror_mode": {
    "name": "ipython",
    "version": 3
   },
   "file_extension": ".py",
   "mimetype": "text/x-python",
   "name": "python",
   "nbconvert_exporter": "python",
   "pygments_lexer": "ipython3",
   "version": "3.6.0"
  }
 },
 "nbformat": 4,
 "nbformat_minor": 2
}
