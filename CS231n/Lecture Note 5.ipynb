{
 "cells": [
  {
   "cell_type": "markdown",
   "metadata": {},
   "source": [
    "# Lecture 5\n",
    "\n",
    "- history breakthrough:pre-training\n",
    "\n",
    "## Activation Functions\n",
    "**key:gradient flow**\n",
    "-  sigmoid function \n",
    "    - gradient vanish, sigmoid function has 0 derivatives when x < -5 or x > 5, so input must be zero-centered\n",
    "    - output not zero-centerd\n",
    "\n",
    "- tanh : same as sigmoid but one, the output is zero centerd\n",
    "\n",
    "- ReLU\n",
    "     - converge much faster, compute efficiently,\n",
    "     - kill gradient if x < 0\n",
    "     - dead neuron, the input is alway small than 0, then no update to weights\n",
    "\n",
    "- Leaky ReLU/Parametric ReLU:f(x) = max(ax,x)\n",
    "\n",
    "- Maxout:max(w1\\*x+b1,w2\\*x+b2),double weights number\n",
    "\n",
    "- suggest: use ReLU\n"
   ]
  }
 ],
 "metadata": {
  "kernelspec": {
   "display_name": "Python 3",
   "language": "python",
   "name": "python3"
  },
  "language_info": {
   "codemirror_mode": {
    "name": "ipython",
    "version": 3
   },
   "file_extension": ".py",
   "mimetype": "text/x-python",
   "name": "python",
   "nbconvert_exporter": "python",
   "pygments_lexer": "ipython3",
   "version": "3.6.0"
  }
 },
 "nbformat": 4,
 "nbformat_minor": 2
}
