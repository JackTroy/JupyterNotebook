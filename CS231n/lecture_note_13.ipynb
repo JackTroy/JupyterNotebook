{
 "cells": [
  {
   "cell_type": "markdown",
   "metadata": {},
   "source": [
    "# Lecture Note 13\n",
    "\n",
    "## Segmentation\n",
    "\n",
    "### Semantic Segmentation\n",
    "- method 1\n",
    "    - take small patch of photo, run through cnn to get classification of the central pixel\n",
    "    - iterate over the photo\n",
    "- method 2\n",
    "    - run 'fully convolutional' network & get all pixels classification at once\n",
    "- multi-scale\n",
    "- refinement, rnn & cnn ?\n",
    "- learnable upsampling,  'deconvolution'\n",
    "\n",
    "### Instance Segmentation\n",
    "- SDS, region proposal\n",
    "- Hypercolumns\n",
    "- Cascades ???\n",
    "\n",
    "## Attention Models\n",
    "\n",
    "- Soft or Hard Attention for Captioning\n",
    "- Soft Attention for Translation\n",
    "- Soft Attention for Everything\n",
    "- Attending to Arbitrary Regions"
   ]
  }
 ],
 "metadata": {
  "kernelspec": {
   "display_name": "Python 3",
   "language": "python",
   "name": "python3"
  },
  "language_info": {
   "codemirror_mode": {
    "name": "ipython",
    "version": 3
   },
   "file_extension": ".py",
   "mimetype": "text/x-python",
   "name": "python",
   "nbconvert_exporter": "python",
   "pygments_lexer": "ipython3",
   "version": "3.6.0"
  }
 },
 "nbformat": 4,
 "nbformat_minor": 2
}
