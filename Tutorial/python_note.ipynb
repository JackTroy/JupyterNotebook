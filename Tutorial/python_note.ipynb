{
 "cells": [
  {
   "cell_type": "markdown",
   "metadata": {},
   "source": [
    "# Python trick"
   ]
  },
  {
   "cell_type": "code",
   "execution_count": 6,
   "metadata": {
    "collapsed": false,
    "scrolled": false
   },
   "outputs": [
    {
     "name": "stdout",
     "output_type": "stream",
     "text": [
      "3 4\n"
     ]
    }
   ],
   "source": [
    "# trick 1\n",
    "a, b = 3, 4\n",
    "print(a, b)"
   ]
  },
  {
   "cell_type": "code",
   "execution_count": 7,
   "metadata": {
    "collapsed": false
   },
   "outputs": [
    {
     "name": "stdout",
     "output_type": "stream",
     "text": [
      "9\n",
      "8\n"
     ]
    }
   ],
   "source": [
    "# trick 2\n",
    "# pow\n",
    "print(3 ** 2)\n",
    "#'//' operator must return integer reuslt\n",
    "print(16 // 2)"
   ]
  },
  {
   "cell_type": "markdown",
   "metadata": {},
   "source": [
    "# Python note"
   ]
  },
  {
   "cell_type": "code",
   "execution_count": 45,
   "metadata": {
    "collapsed": false,
    "scrolled": false
   },
   "outputs": [
    {
     "name": "stdout",
     "output_type": "stream",
     "text": [
      "yes\n",
      "20013\n",
      "中\n"
     ]
    }
   ],
   "source": [
    "# utf-8里中文的编码范围，\\u4e00 ～ \\u9fa5， 可以用来判断一个字符是否中文\n",
    "if '\\u4e00' <= '中' and '\\u9fa5' >= '中':\n",
    "    print('yes')\n",
    "    \n",
    "# 将unicode char转化为对应的整型数字\n",
    "print(ord('中'))\n",
    "# 将整型数字转化为对应的unicode char\n",
    "print(chr(20013))"
   ]
  },
  {
   "cell_type": "code",
   "execution_count": 1,
   "metadata": {
    "collapsed": false
   },
   "outputs": [
    {
     "name": "stdout",
     "output_type": "stream",
     "text": [
      "80000\n"
     ]
    }
   ],
   "source": [
    "# 初始化数组为len = 80000, 元素皆为0\n",
    "a = [0] * 80000\n",
    "print(len(a))"
   ]
  },
  {
   "cell_type": "code",
   "execution_count": 25,
   "metadata": {
    "collapsed": false,
    "scrolled": true
   },
   "outputs": [
    {
     "name": "stdout",
     "output_type": "stream",
     "text": [
      "False\n",
      "True\n",
      "True\n",
      "False\n",
      "True\n"
     ]
    }
   ],
   "source": [
    "#python 中的 == 与 is\n",
    "'''\n",
    "- Python中的对象包含三要素：id、type、value\n",
    "- 其中id用来唯一标识一个对象，type标识对象的类型，value是对象的值\n",
    "- is判断的是a对象是否就是b对象，是通过id来判断的\n",
    "- ==判断的是a对象的值是否和b对象的值相等，是通过value来判断的\n",
    "'''\n",
    "a = [0] * 5\n",
    "b = [0] * 5\n",
    "print(a is b)\n",
    "print(a == b)\n",
    "#note:对象缓存机制\n",
    "#Python会对比较小的对象缓存，下次用到比较小的对象时，会去缓存区查找，\n",
    "#如果找到，不会再开辟新的内存，而是继续把小对象的地址赋给新的值。\n",
    "d, c = 5, 5\n",
    "print(c is d)\n",
    "#通过计算得到的赋值，不会使用缓存区。\n",
    "print(1000 is 10**3)\n",
    "#对于字符串，你可以通过使用intern函数强制使用缓存区。\n",
    "import sys\n",
    "print(sys.intern('abc') is sys.intern('abc'))"
   ]
  },
  {
   "cell_type": "code",
   "execution_count": 4,
   "metadata": {
    "collapsed": false
   },
   "outputs": [
    {
     "name": "stdout",
     "output_type": "stream",
     "text": [
      "1 4 1\n"
     ]
    }
   ],
   "source": [
    "#正数代表从左到右， 负数代表从又到左\n",
    "a = [1,2,3,4]\n",
    "print(a[0], a[-1], a[-len(a)])"
   ]
  },
  {
   "cell_type": "code",
   "execution_count": null,
   "metadata": {
    "collapsed": true
   },
   "outputs": [],
   "source": [
    "'''\n",
    "int(x [,base ])         将x转换为一个整数    \n",
    "long(x [,base ])        将x转换为一个长整数    \n",
    "float(x )               将x转换到一个浮点数    \n",
    "complex(real [,imag ])  创建一个复数    \n",
    "str(x )                 将对象 x 转换为字符串    \n",
    "repr(x )                将对象 x 转换为表达式字符串    \n",
    "eval(str )              用来计算在字符串中的有效Python表达式,并返回一个对象    \n",
    "tuple(s )               将序列 s 转换为一个元组    \n",
    "list(s )                将序列 s 转换为一个列表    \n",
    "chr(x )                 将一个整数转换为一个字符    \n",
    "unichr(x )              将一个整数转换为Unicode字符    \n",
    "ord(x )                 将一个字符转换为它的整数值    \n",
    "hex(x )                 将一个整数转换为一个十六进制字符串    \n",
    "oct(x )                 将一个整数转换为一个八进制字符串   \n",
    "'''"
   ]
  },
  {
   "cell_type": "code",
   "execution_count": 1,
   "metadata": {
    "collapsed": false
   },
   "outputs": [
    {
     "name": "stdout",
     "output_type": "stream",
     "text": [
      "gallahad the pure\n",
      "robin the brave\n",
      "0 tic\n",
      "1 tac\n",
      "2 toe\n",
      "What is your name?  It is lancelot.\n",
      "What is your quest?  It is the holy grail.\n",
      "What is your favorite color?  It is blue.\n",
      "9\n",
      "7\n",
      "5\n",
      "3\n",
      "1\n",
      "apple\n",
      "banana\n",
      "orange\n",
      "pear\n"
     ]
    }
   ],
   "source": [
    "# looping \n",
    "# When looping through dictionaries, the key and corresponding value \n",
    "#can be retrieved at the same time using the items() method.\n",
    "\n",
    "knights = {'gallahad': 'the pure', 'robin': 'the brave'}\n",
    "for k, v in knights.items():\n",
    "    print(k, v)\n",
    "\n",
    "\n",
    "#When looping through a sequence, the position index and corresponding value \n",
    "#can be retrieved at the same time using the enumerate() function.\n",
    "\n",
    "for i, v in enumerate(['tic', 'tac', 'toe']):\n",
    "    print(i, v)\n",
    "\n",
    "#To loop over two or more sequences at the same time, \n",
    "#the entries can be paired with the zip() function.\n",
    "\n",
    "questions = ['name', 'quest', 'favorite color']\n",
    "answers = ['lancelot', 'the holy grail', 'blue']\n",
    "for q, a in zip(questions, answers):\n",
    "    print('What is your {0}?  It is {1}.'.format(q, a))\n",
    "\n",
    "\n",
    "#To loop over a sequence in reverse, first specify the sequence \n",
    "#in a forward direction and then call the reversed() function.\n",
    "\n",
    "for i in reversed(range(1, 10, 2)):\n",
    "    print(i)\n",
    "\n",
    "\n",
    "#To loop over a sequence in sorted order, use the sorted() function \n",
    "#which returns a new sorted list while leaving the source unaltered.\n",
    "\n",
    "basket = ['apple', 'orange', 'apple', 'pear', 'orange', 'banana']\n",
    "for f in sorted(set(basket)):\n",
    "    print(f)\n",
    "\n",
    "\n",
    "#It is sometimes tempting to change a list while you are looping over it; \n",
    "#however, it is often simpler and safer to create a new list instead.\n",
    "\n",
    "import math\n",
    "raw_data = [56.2, float('NaN'), 51.7, 55.3, 52.5, float('NaN'), 47.8]\n",
    "filtered_data = []\n",
    "for value in raw_data:\n",
    "    if not math.isnan(value):\n",
    "        filtered_data.append(value)\n",
    "\n"
   ]
  }
 ],
 "metadata": {
  "kernelspec": {
   "display_name": "Python 3",
   "language": "python",
   "name": "python3"
  },
  "language_info": {
   "codemirror_mode": {
    "name": "ipython",
    "version": 3
   },
   "file_extension": ".py",
   "mimetype": "text/x-python",
   "name": "python",
   "nbconvert_exporter": "python",
   "pygments_lexer": "ipython3",
   "version": "3.6.0"
  }
 },
 "nbformat": 4,
 "nbformat_minor": 2
}
