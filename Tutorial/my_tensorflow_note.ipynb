{
 "cells": [
  {
   "cell_type": "markdown",
   "metadata": {},
   "source": [
    "# My Tensorflow Note"
   ]
  },
  {
   "cell_type": "markdown",
   "metadata": {},
   "source": [
    "### Key Concepts\n",
    "- graph, tensor, operation, placeholder, variable"
   ]
  },
  {
   "cell_type": "code",
   "execution_count": null,
   "metadata": {
    "collapsed": true
   },
   "outputs": [],
   "source": [
    "import tensorflow as tf\n",
    "import numpy as np"
   ]
  },
  {
   "cell_type": "markdown",
   "metadata": {},
   "source": [
    "## 1st part: introduce key concepts"
   ]
  },
  {
   "cell_type": "code",
   "execution_count": null,
   "metadata": {
    "collapsed": true
   },
   "outputs": [],
   "source": [
    "#reset the graph, preventing unknown error\n",
    "tf.reset_default_graph()\n",
    "\n",
    "# setting some constant\n",
    "N, D, H = 64, 1000, 100\n",
    "\n",
    "'''\n",
    "define the very placeholder\n",
    " - using placeholder must pass feed_dict \n",
    "     while sess.run() cause \"placeholder\"\n",
    "'''\n",
    "x = tf.placeholder(tf.float32, shape=(N, D))\n",
    "y = tf.placeholder(tf.float32, shape=(N, D))\n",
    "\n",
    "'''\n",
    "define Variable\n",
    " - A variable maintains state in the graph across calls to run()\n",
    " - variable need to be explicitly initialize !!\n",
    "'''\n",
    "w1 = tf.Variable(tf.random_normal((D, H)))\n",
    "w2 = tf.Variable(tf.random_normal((H, D)))\n",
    "\n",
    "#define forward & backward & weights update\n",
    "\n",
    "#forward\n",
    "h = tf.maximum(tf.matmul(x, w1), 0)\n",
    "y_pred = tf.matmul(h, w2)\n",
    "\n",
    "'''\n",
    "#deprecated\n",
    "\n",
    "diff = y_pred - y\n",
    "loss = tf.reduce_mean(tf.reduce_sum(diff**2, axis=1))\n",
    "'''\n",
    "#use predifined losses\n",
    "loss = tf.losses.mean_squared_error(y_pred, y)\n",
    "\n",
    "\n",
    "'''\n",
    "#deprecated\n",
    "\n",
    "#assign new values to weights\n",
    "#this is operations as well\n",
    "#you can throw it into sess.run() as fetches\n",
    "\n",
    "grad_w1, grad_w2 = tf.gradients(loss, [w1, w2])\n",
    "learning_rate = 1e-5\n",
    "new_w1 = w1.assign(w1 - learning_rate * grad_w1)\n",
    "new_w2 = w2.assign(w2 - learning_rate * grad_w2)\n",
    "updates = tf.group(new_w1, new_w2)\n",
    "'''\n",
    "\n",
    "'''\n",
    "using predifined optimizer to minimize loss \n",
    " - minimize() here is a combination of compute_gradients() & apply_gradients()\n",
    " - compute_gradients(loss) can compute the gradients of loss \n",
    "    for the variables in var_list(default is the global variables )\n",
    " - apply_gradient() just as its name, return the operation of applying gradients \n",
    "'''\n",
    "optimizer = tf.train.GradientDescentOptimizer(1e-3)\n",
    "updates = optimizer.minimize(loss)\n",
    "\n",
    "with tf.Session() as sess:\n",
    "    '''\n",
    "    run() \n",
    "     - it can runs operations and evaluates tensors offered in fetches\n",
    "     - fetches takes in graph elememts such as tf.Tensor, tf.Operation\n",
    "         so fetches is loss , updates here\n",
    "         fetched value or aka return of tf.Operation is null\n",
    "     - this method only run one time, hence the loop\n",
    "     - return is the values you require to compute in the fetches\n",
    "    '''\n",
    "    \n",
    "    '''\n",
    "    feed_dict\n",
    "     - subtitute the placeholder define above\n",
    "     - key corresponds to placeholder above !!!\n",
    "     - value corresponds to values you want to assign as np array\n",
    "    '''\n",
    "    \n",
    "    \n",
    "    values = {\n",
    "        x:np.random.randn(N, D),\n",
    "        y:np.random.randn(N, D),\n",
    "    }\n",
    "    #initialize global variable, passing the operation here\n",
    "    sess.run(tf.global_variables_initializer())\n",
    "    losses = []\n",
    "    for t in range(50):\n",
    "        # _ here is tmp var which will not be used in the future\n",
    "        loss_val, _ = sess.run(fetches=[loss, updates], feed_dict=values)\n",
    "        losses.append(loss_val)"
   ]
  },
  {
   "cell_type": "markdown",
   "metadata": {},
   "source": [
    "## 2nd part: showing fancy stuff, layers, tensorboard"
   ]
  },
  {
   "cell_type": "code",
<<<<<<< Updated upstream
   "execution_count": null,
=======
<<<<<<< HEAD
   "execution_count": 10,
=======
   "execution_count": null,
>>>>>>> master
>>>>>>> Stashed changes
   "metadata": {
    "collapsed": false,
    "scrolled": false
   },
   "outputs": [],
   "source": [
    "#reset the graph, preventing unknown error\n",
    "tf.reset_default_graph()\n",
    "\n",
    "N, D, H = 64, 1000, 100\n",
    "\n",
    "#using gpu when performing below operations!\n",
<<<<<<< Updated upstream
=======
<<<<<<< HEAD
    "#actually tensorflow  will use gpu as long as you have one, so no need to assign\n",
    "#with tf.device('/gpu:0'):\n",
    "x = tf.placeholder(tf.float32, shape=(N, D))\n",
    "y = tf.placeholder(tf.float32, shape=(N, D))\n",
    "init = tf.contrib.layers.xavier_initializer()\n",
    "#use predefined layers, this automatically sets up weight & bias\n",
    "h1 = tf.layers.dense(inputs=x, units=H, activation=tf.nn.relu,\n",
    "                   kernel_initializer=init)\n",
    "#record the activation through histogram\n",
    "tf.summary.histogram('h1', h1)\n",
    "h2 = tf.layers.dense(inputs=h1, units=H, activation=tf.nn.relu,\n",
    "                    kernel_initializer=init)\n",
    "tf.summary.histogram('h2', h2)\n",
    "y_pred = tf.layers.dense(inputs=h2, units=D, \n",
=======
>>>>>>> Stashed changes
    "#actually tensorflow can do assignment on gpu automatically\n",
    "#so this line is just as an reminder\n",
    "with tf.device('/gpu:0'):\n",
    "    x = tf.placeholder(tf.float32, shape=(N, D))\n",
    "    y = tf.placeholder(tf.float32, shape=(N, D))\n",
    "\n",
    "    #use a xavier init\n",
    "    init = tf.contrib.layers.xavier_initializer()\n",
    "    #use predefined layers, this automatically sets up weight & bias\n",
    "    h = tf.layers.dense(inputs=x, units=H, activation=tf.nn.relu,\n",
    "                       kernel_initializer=init)\n",
    "    y_pred = tf.layers.dense(inputs=h, units=D, \n",
>>>>>>> master
    "                             kernel_initializer=init)\n",
    "loss = tf.losses.mean_squared_error(y_pred, y)\n",
    "tf.summary.scalar('loss', loss)\n",
    "optimizer = tf.train.GradientDescentOptimizer(1e-0)\n",
    "updates = optimizer.minimize(loss)\n",
    "merge_summary = tf.summary.merge_all()\n",
    "\n",
    "#config allow_soft_placement here is to let the computation fall back to cpu version\n",
    "#in this case, the tf.losses.mean_squared_error has no corresponding gpu version\n",
    "with tf.Session(config=tf.ConfigProto(allow_soft_placement=True, log_device_placement=True)) as sess:\n",
    "    values = {\n",
    "        x:np.random.randn(N, D),\n",
    "        y:np.random.randn(N, D),\n",
    "    }\n",
    "    sess.run(tf.global_variables_initializer())\n",
    "    #absolute path here!!!\n",
    "    summary_writer = tf.summary.FileWriter(logdir='/eventfiles/',\n",
    "                                         graph=sess.graph)\n",
    "    for t in range(1000):\n",
    "        loss_val, _ = sess.run(fetches=[loss, updates], feed_dict=values)\n",
    "        summary_str = sess.run(merge_summary, feed_dict=values)\n",
    "        summary_writer.add_summary(summary=summary_str, global_step=t)"
   ]
  },
  {
   "cell_type": "code",
   "execution_count": null,
   "metadata": {
    "collapsed": false
   },
   "outputs": [],
   "source": [
    "tf.reset_default_graph()\n",
    "\n",
    "with tf.device('/gpu:0'):\n",
    "  a = tf.constant([1.0, 2.0, 3.0, 4.0, 5.0, 6.0], shape=[2, 3], name='a')\n",
    "  b = tf.constant([1.0, 2.0, 3.0, 4.0, 5.0, 6.0], shape=[3, 2], name='b')\n",
    "  c = tf.matmul(a, b)\n",
    "\n",
    "# 通过log_device_placement指定在日志中输出变量和操作所在的设备\n",
    "\n",
    "sess = tf.Session(config=tf.ConfigProto(log_device_placement=True))\n",
    "\n",
<<<<<<< HEAD
    "#no log using jupyter notebook, log can't only be\n",
=======
    "\n",
    "#seems like log only appear using terminal, sad\n",
<<<<<<< Updated upstream
=======
>>>>>>> master
>>>>>>> Stashed changes
    "print(sess.run(c))"
   ]
  }
 ],
 "metadata": {
  "kernelspec": {
   "display_name": "Python 3",
   "language": "python",
   "name": "python3"
  },
  "language_info": {
   "codemirror_mode": {
    "name": "ipython",
    "version": 3
   },
   "file_extension": ".py",
   "mimetype": "text/x-python",
   "name": "python",
   "nbconvert_exporter": "python",
   "pygments_lexer": "ipython3",
   "version": "3.6.0"
  }
 },
 "nbformat": 4,
 "nbformat_minor": 2
}
