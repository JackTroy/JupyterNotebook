{
 "cells": [
  {
   "cell_type": "markdown",
   "metadata": {},
   "source": [
    "# Python trick"
   ]
  },
  {
   "cell_type": "code",
   "execution_count": 6,
   "metadata": {
    "collapsed": false,
    "scrolled": false
   },
   "outputs": [
    {
     "name": "stdout",
     "output_type": "stream",
     "text": [
      "3 4\n"
     ]
    }
   ],
   "source": [
    "# trick 1\n",
    "a, b = 3, 4\n",
    "print(a, b)"
   ]
  },
  {
   "cell_type": "code",
   "execution_count": 7,
   "metadata": {
    "collapsed": false
   },
   "outputs": [
    {
     "name": "stdout",
     "output_type": "stream",
     "text": [
      "9\n",
      "8\n"
     ]
    }
   ],
   "source": [
    "# trick 2\n",
    "# pow\n",
    "print(3 ** 2)\n",
    "#'//' operator must return integer reuslt\n",
    "print(16 // 2)"
   ]
  },
  {
   "cell_type": "markdown",
   "metadata": {},
   "source": [
    "# Python note"
   ]
  },
  {
   "cell_type": "code",
   "execution_count": 45,
   "metadata": {
    "collapsed": false,
    "scrolled": false
   },
   "outputs": [
    {
     "name": "stdout",
     "output_type": "stream",
     "text": [
      "yes\n",
      "20013\n",
      "中\n"
     ]
    }
   ],
   "source": [
    "# utf-8里中文的编码范围，\\u4e00 ～ \\u9fa5， 可以用来判断一个字符是否中文\n",
    "if '\\u4e00' <= '中' and '\\u9fa5' >= '中':\n",
    "    print('yes')\n",
    "    \n",
    "# 将unicode char转化为对应的整型数字\n",
    "print(ord('中'))\n",
    "# 将整型数字转化为对应的unicode char\n",
    "print(chr(20013))"
   ]
  },
  {
   "cell_type": "code",
   "execution_count": 1,
   "metadata": {
    "collapsed": false
   },
   "outputs": [
    {
     "name": "stdout",
     "output_type": "stream",
     "text": [
      "80000\n"
     ]
    }
   ],
   "source": [
    "# 初始化数组为len = 80000, 元素皆为0\n",
    "a = [0] * 80000\n",
    "print(len(a))"
   ]
  },
  {
   "cell_type": "code",
   "execution_count": 25,
   "metadata": {
    "collapsed": false,
    "scrolled": true
   },
   "outputs": [
    {
     "name": "stdout",
     "output_type": "stream",
     "text": [
      "False\n",
      "True\n",
      "True\n",
      "False\n",
      "True\n"
     ]
    }
   ],
   "source": [
    "#python 中的 == 与 is\n",
    "'''\n",
    "- Python中的对象包含三要素：id、type、value\n",
    "- 其中id用来唯一标识一个对象，type标识对象的类型，value是对象的值\n",
    "- is判断的是a对象是否就是b对象，是通过id来判断的\n",
    "- ==判断的是a对象的值是否和b对象的值相等，是通过value来判断的\n",
    "'''\n",
    "a = [0] * 5\n",
    "b = [0] * 5\n",
    "print(a is b)\n",
    "print(a == b)\n",
    "#note:对象缓存机制\n",
    "#Python会对比较小的对象缓存，下次用到比较小的对象时，会去缓存区查找，\n",
    "#如果找到，不会再开辟新的内存，而是继续把小对象的地址赋给新的值。\n",
    "d, c = 5, 5\n",
    "print(c is d)\n",
    "#通过计算得到的赋值，不会使用缓存区。\n",
    "print(1000 is 10**3)\n",
    "#对于字符串，你可以通过使用intern函数强制使用缓存区。\n",
    "import sys\n",
    "print(sys.intern('abc') is sys.intern('abc'))"
   ]
  },
  {
   "cell_type": "code",
   "execution_count": 4,
   "metadata": {
    "collapsed": false
   },
   "outputs": [
    {
     "name": "stdout",
     "output_type": "stream",
     "text": [
      "1 4 1\n"
     ]
    }
   ],
   "source": [
    "#正数代表从左到右， 负数代表从又到左\n",
    "a = [1,2,3,4]\n",
    "print(a[0], a[-1], a[-len(a)])"
   ]
  }
 ],
 "metadata": {
  "kernelspec": {
   "display_name": "Python 3",
   "language": "python",
   "name": "python3"
  },
  "language_info": {
   "codemirror_mode": {
    "name": "ipython",
    "version": 3
   },
   "file_extension": ".py",
   "mimetype": "text/x-python",
   "name": "python",
   "nbconvert_exporter": "python",
   "pygments_lexer": "ipython3",
   "version": "3.6.0"
  }
 },
 "nbformat": 4,
 "nbformat_minor": 2
}
